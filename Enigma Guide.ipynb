{
 "metadata": {
  "language_info": {
   "codemirror_mode": {
    "name": "ipython",
    "version": 3
   },
   "file_extension": ".py",
   "mimetype": "text/x-python",
   "name": "python",
   "nbconvert_exporter": "python",
   "pygments_lexer": "ipython3",
   "version": "3.9.2"
  },
  "orig_nbformat": 2,
  "kernelspec": {
   "name": "python3",
   "display_name": "Python 3.9.2 64-bit",
   "metadata": {
    "interpreter": {
     "hash": "48a0ad59b5d221ff1f9fa256b41e00f726256f939ab29d0a5d51ba75d9b91198"
    }
   }
  }
 },
 "nbformat": 4,
 "nbformat_minor": 2,
 "cells": [
  {
   "source": [
    "## Welcome to a guide on the Enigma Machine!\n",
    "\n",
    "### The Enigma Machine was an encryption device used by the German Military during WWII."
   ],
   "cell_type": "markdown",
   "metadata": {}
  },
  {
   "source": [
    "An Enigma Machine is made up of (usually 3) rotors, a reflector and (an optional) reflector.\n",
    "Each part performs a substituion cipher (swaps one letter with another) but all do it in different ways.  \n",
    "Let's take a look at an Enigma Machine."
   ],
   "cell_type": "markdown",
   "metadata": {}
  },
  {
   "cell_type": "code",
   "execution_count": 14,
   "metadata": {},
   "outputs": [
    {
     "output_type": "stream",
     "name": "stdout",
     "text": [
      "Enigma Machine with 3 rotors, a reflector and a plugboard.\n"
     ]
    }
   ],
   "source": [
    "from enigma_machine import EnigmaMachine\n",
    "# Create an Enigma Machine with default parameters.\n",
    "print(EnigmaMachine())"
   ]
  },
  {
   "source": [
    "Let's encrypt our first message."
   ],
   "cell_type": "markdown",
   "metadata": {}
  },
  {
   "cell_type": "code",
   "execution_count": 15,
   "metadata": {},
   "outputs": [
    {
     "output_type": "stream",
     "name": "stdout",
     "text": [
      "SDHOJ GSMAY!\n"
     ]
    }
   ],
   "source": [
    "EM = EnigmaMachine()\n",
    "encrypted_message = EM.encrypt_message('HELLO WORLD!')\n",
    "print(encrypted_message)"
   ]
  },
  {
   "source": [
    "You can decrypt a message by just entering it again in the same machine. We'll have to initialise a new machine though as the settings change as soon as you type something! (More on that later)."
   ],
   "cell_type": "markdown",
   "metadata": {}
  },
  {
   "cell_type": "code",
   "execution_count": 3,
   "metadata": {},
   "outputs": [
    {
     "output_type": "stream",
     "name": "stdout",
     "text": [
      "HELLO WORLD!\n"
     ]
    }
   ],
   "source": [
    "EM = EnigmaMachine()\n",
    "decrypted_message = EM.encrypt_message('SDHOJ GSMAY!')\n",
    "print(decrypted_message)"
   ]
  },
  {
   "source": [
    "The convention for encrypted messages was blocks of 5 letters with no spaces, and \"X\" in places of full stops.\n",
    "Here's an example."
   ],
   "cell_type": "markdown",
   "metadata": {}
  },
  {
   "cell_type": "code",
   "execution_count": 16,
   "metadata": {},
   "outputs": [
    {
     "output_type": "execute_result",
     "data": {
      "text/plain": [
       "'THISI SATES TMESS AGEX'"
      ]
     },
     "metadata": {},
     "execution_count": 16
    }
   ],
   "source": [
    "EM = EnigmaMachine()\n",
    "EM.encrypt_message('UCDKN DITSL ERDPS YIIF')"
   ]
  },
  {
   "source": [
    "Removing the spaces: THISISATESTMESSAGEX  \n",
    "Interpreting the message: THIS IS A TEST MESSAGE."
   ],
   "cell_type": "markdown",
   "metadata": {}
  },
  {
   "source": [
    "Let's have a go at decrypting a message actually sent using a real world Enigma machine.\n",
    "This is from the Enigma training manual from 1930.  \n",
    "As well as an X replacing a full stop, \"Q\" replaces \"CH\" and \"AE\" for \"Ä\", \"UE\" for \"Ü\" and \"Z\" for \"ß\"). \n",
    "\n",
    "We will need to configure the machine with the correct settings- these will be explained in a bit more detail later.  \n",
    "Machine Settings:  \n",
    "Reflector: A  \n",
    "Wheel order: II I III  \n",
    "Ring positions: \t24 13 22  \n",
    "Plug pairs:\tAM FI NV PS TU WZ  \n",
    "\n",
    "GCDSE AHUGW TQGRK VLFGX UCALX VYMIG MMNMF DXTGN VHVRM MEVOU YFZSL RHDRR XFJWC FHUHM UNZEF RDISI KBGPM YVXUZ"
   ],
   "cell_type": "markdown",
   "metadata": {}
  },
  {
   "cell_type": "code",
   "execution_count": 17,
   "metadata": {},
   "outputs": [
    {
     "output_type": "execute_result",
     "data": {
      "text/plain": [
       "'FEIND LIQEI NFANT ERIEK OLONN EBEOB AQTET XANFA NGSUE DAUSG ANGBA ERWAL DEXEN DEDRE IKMOS TWAER TSNEU STADT'"
      ]
     },
     "metadata": {},
     "execution_count": 17
    }
   ],
   "source": [
    "# Configuring the machine.\n",
    "EM = EnigmaMachine(rotor_types=['II', 'I', 'III'],\n",
    "                    reflector_mapping='A',\n",
    "                    rotor_positions='ABL',\n",
    "                    ring_settings='XMV',\n",
    "                    steckered_pairing='AM FI NV PS TU WZ')\n",
    "\n",
    "EM.encrypt_message('GCDSE AHUGW TQGRK VLFGX UCALX VYMIG MMNMF DXTGN VHVRM MEVOU YFZSL RHDRR XFJWC FHUHM UNZEF RDISI KBGPM YVXUZ')"
   ]
  },
  {
   "source": [
    "Removing spaces and replacing special characters:\n",
    "FEINDLICHEINFANTERIEKOLONNEBEOBACHTET.ANFANGSUEDAUSGANGBAERWALDE.ENDEDREIKMOSTWAERTSNEUSTADT\n",
    "\n",
    "Splitting out into German words:\n",
    "Feindliche Infanterie kolonne beobachtet. Anfang Südausgang Bärwalde. Ende 3km ostwärts Neustadt.\n",
    "\n",
    "Translation:\n",
    "Enemy infantry column was observed. Beginning southern exit Baerwalde. Ending 3km east of Neustadt."
   ],
   "cell_type": "markdown",
   "metadata": {}
  },
  {
   "source": [
    "## How does it work?\n",
    "\n",
    "The encryption made by an Enigma machine is made up of three components:  \n",
    "- Rotors  \n",
    "- Reflector  \n",
    "- Plugboard  \n",
    "\n",
    "When a key is pressed, a current passes through these parts in turn:  \n",
    "1) Plugboard  \n",
    "2) Rotors (flowing right to left)  \n",
    "3) Reflector  \n",
    "4) Rotors (in reverse, left to right)  \n",
    "5) Plugboard  \n",
    "The output is then displayed by one of the letters being lit up on the 'lampboard'.  \n",
    "Let's take a further look at these constituent parts.  \n"
   ],
   "cell_type": "markdown",
   "metadata": {}
  },
  {
   "source": [
    "## Rotor\n",
    "The rotor is the most important part of an Enigma Machine. It is a wheel of 26 letters and performs a basic letter substitution.  \n",
    "This substitution works by telling us which letter of the alphabet is mapped to which.  \n",
    "There are only a few different set mappings to choose from (called the rotor \"type\") each denoted by a Roman Numeral (I, II, and so on).  \n",
    "In the case below A->E, B->K, C->M and so on.  \n"
   ],
   "cell_type": "markdown",
   "metadata": {}
  },
  {
   "cell_type": "code",
   "execution_count": 6,
   "metadata": {},
   "outputs": [
    {
     "output_type": "stream",
     "name": "stdout",
     "text": [
      "EKMFLGDQVZNTOWYHXUSPAIBRCJ\n"
     ]
    }
   ],
   "source": [
    "# Build a rotor with default values\n",
    "rotor = EM.Rotor()\n",
    "\n",
    "print(rotor.mapping)"
   ]
  },
  {
   "source": [
    "Within the Enigma Machine each rotor can have one of 26 positions (known as *Grundstellung*), one for each letter of the alphabet. You can change this position by turning (essentially rotating) the rotor."
   ],
   "cell_type": "markdown",
   "metadata": {}
  },
  {
   "source": [
    "rotor = EM.Rotor()\n",
    "print(f'Rotor position before turning: {rotor.position}')\n",
    "rotor.turn_rotor()\n",
    "print(f'Rotor position after turning: {rotor.position}')"
   ],
   "cell_type": "code",
   "metadata": {},
   "execution_count": 7,
   "outputs": [
    {
     "output_type": "stream",
     "name": "stdout",
     "text": [
      "Rotor position before turning: A\nRotor position after turning: B\n"
     ]
    }
   ]
  },
  {
   "source": [
    "The rotor's position changes how it maps letters. For example take rotor I which has the mapping EKMFLGDQVZNTOWYHXUSPAIBRCJ.\n",
    "\n",
    "If a rotor is in \"A\" position, the mapping is the same as before A->E, B->K, C->M, D->F.  \n",
    "If a rotor is in \"B\" position, it has been rotated along by one, so the mapping is shifted one place, so A->K, B->M, C->F.\n"
   ],
   "cell_type": "markdown",
   "metadata": {}
  },
  {
   "source": [
    "### How does a rotor get turned?  \n",
    "Enigma Machines contain a set of (usually 3) rotors which interconnect, and every time a key is pressed, the right-most rotor is always rotated.  \n",
    "Each rotor also has a notch at a position on its wheel. If the rotor is its notch position, it turns the rotor immediately to its left.\n"
   ],
   "cell_type": "markdown",
   "metadata": {}
  },
  {
   "cell_type": "code",
   "execution_count": 8,
   "metadata": {},
   "outputs": [
    {
     "output_type": "stream",
     "name": "stdout",
     "text": [
      "Position: A, notch Q\nPosition: A, notch E\nPosition: U, notch V\nTurning rotor assembly...\nPosition: A, notch Q\nPosition: A, notch E\nPosition: V, notch V\nTurning rotor assembly...\nPosition: A, notch Q\nPosition: B, notch E\nPosition: W, notch V\n"
     ]
    }
   ],
   "source": [
    "EM = EnigmaMachine(rotor_positions='AAU')\n",
    "for rotor in EM.rotors:\n",
    "    print(f'Position: {rotor.position}, notch {rotor.notch}')\n",
    "print('Turning rotor assembly...')\n",
    "EM.turn_rotor_assembly()\n",
    "for rotor in EM.rotors:\n",
    "    print(f'Position: {rotor.position}, notch {rotor.notch}')\n",
    "print('Turning rotor assembly...')\n",
    "EM.turn_rotor_assembly()\n",
    "for rotor in EM.rotors:\n",
    "    print(f'Position: {rotor.position}, notch {rotor.notch}')"
   ]
  },
  {
   "source": [
    "In the first turn, the right-most (last) rotor is turned, so U->V.\n",
    "This rotor is now at notch position, so in the next turn it rotates the second rotor from A->B.\n",
    "\n",
    "It takes 26x25x26 = 16,900 key presses to get back to the initial rotor positions. (Note not 26x26x26 due to a phenomenon called \"double-stepping\")."
   ],
   "cell_type": "markdown",
   "metadata": {}
  },
  {
   "source": [
    "### Ring settings\n",
    "The final property of an Enigma rotor is its ring settings (called *Ringstellung*). Like the rotor position, there are 26 ring different settings and it changes the way the mapping of the rotor works.  \n",
    "When the ring setting is set, it essentially turns round the internal wiring of the rotor which has the same effect as turning the rotor, but also shifts all the letters in the mapping up the alphabet a certain amount.  \n",
    "If the ring setting is at 'B', this shifts all the letters along the mapping by 1, but also shifts them up the alphabet by 1.  \n",
    "For example: "
   ],
   "cell_type": "markdown",
   "metadata": {}
  },
  {
   "cell_type": "code",
   "execution_count": 20,
   "metadata": {},
   "outputs": [
    {
     "output_type": "stream",
     "name": "stdout",
     "text": [
      "Rotor mapping ring setting \"A\": AJDKSIRUXBLHWTMCQGZNPYFVOE\nRotor mapping ring setting \"B\": FBKELTJSVYCMIXUNDRHAOQZGWP\n"
     ]
    }
   ],
   "source": [
    "rotor = EM.Rotor(rotor_type='II', ring_setting='A')\n",
    "print(f'Rotor mapping ring setting \"A\": {rotor.mapping}')\n",
    "rotor.apply_ring_setting('B')\n",
    "print(f'Rotor mapping ring setting \"B\": {rotor.mapping}')"
   ]
  },
  {
   "source": [
    "Each letter in the mapping has been bumped along one and shifted up the alphabet by 1."
   ],
   "cell_type": "markdown",
   "metadata": {}
  },
  {
   "source": [
    "Putting it all together, a rotor has many different configurable settings:  \n",
    "- Type (e.g. I, II, III) the underlying substitution cipher of the rotor\n",
    "- Notch (single letter) controls when the rotor to the left is turned\n",
    "- Ring setting (single letter) defines how the internal wiring is set up and changes the substitution\n",
    "- Rotor position (single letter) specifies the rotational position of the rotor in the machine (changes when keys are typed)\n",
    "\n",
    "Only the rotor position changes by using the machine, all others are set at the beginning and remain unchanged."
   ],
   "cell_type": "markdown",
   "metadata": {}
  },
  {
   "source": [
    "## Reflector\n",
    "The reflector (known as *Umkehrwalze*) is a device that maps all the alphabet into pairs of letters. It enables the same machine to both encrypt and decrypt a message without changing the settings. However, it led to a key cryptographic weakness that the codebreakers at Bletchley Park were able to exploit.  \n",
    "There were 3 standard reflectors for the Enigma Mk 1, 'A', 'B' and 'C'."
   ],
   "cell_type": "markdown",
   "metadata": {}
  },
  {
   "cell_type": "code",
   "execution_count": 10,
   "metadata": {},
   "outputs": [
    {
     "output_type": "stream",
     "name": "stdout",
     "text": [
      "A reflector for an Enigma Machine with mapping \"EJMZALYXVBWFCRQUONTSPIKHGD\".\nA reflector for an Enigma Machine with mapping \"YRUHQSLDPXNGOKMIEBFZCWVJAT\".\nA reflector for an Enigma Machine with mapping \"FVPJIAOYEDRZXWGCTKUQSBNMHL\".\n"
     ]
    }
   ],
   "source": [
    "reflector = EnigmaMachine.Reflector('A')\n",
    "print(reflector)\n",
    "reflector = EnigmaMachine.Reflector('B')\n",
    "print(reflector)\n",
    "reflector = EnigmaMachine.Reflector('C')\n",
    "print(reflector)"
   ]
  },
  {
   "source": [
    "## Plugboard\n",
    "The plugboard (known as *Steckerbrett*) is a way of pairing up (usually 10) letters. It looked a lot like old style phone switchboards, with a socket for each letter, and a cable plugged into two sockets making a pairing.  \n",
    "This mapping is done at the start and end of the process. Without the plugboard, the Enigma cipher was solvable by hand, but its introduction led codebreakers to develop the first computers in order to break the code.  \n",
    "The letter pairings of the plugboard are called \"steckered pairings\"."
   ],
   "cell_type": "markdown",
   "metadata": {}
  },
  {
   "cell_type": "code",
   "execution_count": 11,
   "metadata": {},
   "outputs": [
    {
     "output_type": "stream",
     "name": "stdout",
     "text": [
      "A plugboard for an Enigma Machine with steckered pairing \"AM FI NV PS TU WZ\".\n"
     ]
    }
   ],
   "source": [
    "plugboard = EnigmaMachine.Plugboard()\n",
    "print(plugboard)"
   ]
  },
  {
   "source": [
    "Let's look at another example of text that was actually sent using an Enigma Machine now we know what the settings mean.\n",
    "\n",
    "This was a message sent from the Wermacht during Operation Barbarossa (invasion of the Soviet Union) from 1941.  \n",
    "\n",
    "'EDPUD NRGYS ZRCXN UYTPO MRMBO FKTBZ REZKM LXLVE FGUEY SIOZV EQMIK UBPMM YLKLT TDEIS MDICA GYKUA CTCDO MOHWX MUUIA UBSTS LRNBZ SZWNR FXWFY SSXJZ VIJHI DISHP RKLKA YUPAD TXQSP INQMA TLPIF SVKDA SCTAC DPBOP VHJK-'  \n",
    "\n",
    "The set up of the Enigma Machine was as follows:  \n",
    "Reflector: B  \n",
    "Wheel order: II IV V  \n",
    "Ring positions: BUL  \n",
    "Plug pairs:\tAV BS CG DL FU HZ IN KM OW RX\n",
    "Rotor positions: BLA\n",
    "Let's decrypt it!\n"
   ],
   "cell_type": "markdown",
   "metadata": {}
  },
  {
   "cell_type": "code",
   "execution_count": 21,
   "metadata": {},
   "outputs": [
    {
     "output_type": "stream",
     "name": "stdout",
     "text": [
      "AUFKL XABTE ILUNG XVONX KURTI NOWAX KURTI NOWAX NORDW ESTLX SEBEZ XSEBE ZXUAF FLIEG ERSTR ASZER IQTUN GXDUB ROWKI XDUBR OWKIX OPOTS CHKAX OPOTS CHKAX UMXEI NSAQT DREIN ULLXU HRANG ETRET ENXAN GRIFF XINFX RGTX-\n"
     ]
    }
   ],
   "source": [
    "# Configure Enigma Machine\n",
    "EM = EnigmaMachine(rotor_types=['II', 'IV', 'V'],\n",
    "                   rotor_positions='BLA',\n",
    "                   ring_settings='BUL',\n",
    "                   steckered_pairing='AV BS CG DL FU HZ IN KM OW RX',\n",
    "                   reflector_mapping='B')\n",
    "\n",
    "message = 'EDPUD NRGYS ZRCXN UYTPO MRMBO FKTBZ REZKM LXLVE FGUEY SIOZV EQMIK UBPMM YLKLT TDEIS MDICA GYKUA CTCDO MOHWX MUUIA UBSTS LRNBZ SZWNR FXWFY SSXJZ VIJHI DISHP RKLKA YUPAD TXQSP INQMA TLPIF SVKDA SCTAC DPBOP VHJK-'\n",
    "\n",
    "print(EM.encrypt_message(message))"
   ]
  },
  {
   "source": [
    "It doesn't look that clear yet, but if we replace special characters and sort the spaces we get:  \n",
    "AUFKL ABTEILUNG VON KURTINOWA KURTINOWA NORDWESTL SEBEZ SEBEZ UAFFLIEGERSTR ASßERICHTUNG DUBROWKI DUBROWKI OPOTSCHKA OPOTSCHKA UM EINSACHTDREIN ULL UHRANGETRETEN ANGRIFF INF RGT-\n",
    "\n",
    "Another convention was to repeat the most important words in the message (again leaving more clues for cryptographers!), and abbreviations were used. So splitting into words and filling out abbreviations:\n",
    "\n",
    "Aufkl (Aufklärung) abteilung von Kurtinowa nordwestlich Sebez [auf] Fliegerstraße in Richtung Dubrowki, Opotschka. Um 18:30 Uhr angetreten angriff. Inf (Infanterie) Rgt (Regiment)-\n",
    "\n",
    "English: Reconnaissance division from Kurtinowa north-west of Sebezh on the flight corridor towards Dubrowki, Opochka. Attack begun at 18:30 hours. Infantry Regiment-"
   ],
   "cell_type": "markdown",
   "metadata": {}
  },
  {
   "source": [
    "Use the code below to make your own Enigma Machine and send coded messages to your friends and family! :D\n",
    "Rotor ypes I-V are supported and you can have any number of rotors you want! (As long as you specify the rotor positions and ring settings)."
   ],
   "cell_type": "markdown",
   "metadata": {}
  },
  {
   "source": [
    "# Initialise Enigma Machine\n",
    "EM = EnigmaMachine(rotor_types=['I', 'II', 'III'],  \n",
    "                   ring_settings='AAA',\n",
    "                   rotor_positions='AAA',\n",
    "                   reflector_mapping='B',\n",
    "                   steckered_pairing='AB CD EF'\n",
    "                   )\n",
    "\n",
    "# Encrypt message\n",
    "EM.encrypt_message('A really cool message')"
   ],
   "cell_type": "code",
   "metadata": {},
   "execution_count": 22,
   "outputs": [
    {
     "output_type": "execute_result",
     "data": {
      "text/plain": [
       "'B DUDUIX UMSO NKNFPJJ'"
      ]
     },
     "metadata": {},
     "execution_count": 22
    }
   ]
  }
 ]
}